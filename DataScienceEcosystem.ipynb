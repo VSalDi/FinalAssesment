{
 "cells": [
  {
   "cell_type": "markdown",
   "id": "7ded27de-4b73-47ce-91a9-484128501a23",
   "metadata": {
    "tags": []
   },
   "source": [
    "# Data Science Tools and Ecosystem"
   ]
  },
  {
   "cell_type": "markdown",
   "id": "c7c0bdd6-aedb-47cc-877f-ca68f31c56db",
   "metadata": {},
   "source": [
    "## Author\n",
    "\n",
    "_Victor Salinas Díaz_"
   ]
  },
  {
   "cell_type": "markdown",
   "id": "b5c46e44-b375-4f59-94cd-89e5af60bafc",
   "metadata": {},
   "source": [
    "In this notebook, Data Science Tools and Ecosystem are summarized."
   ]
  },
  {
   "cell_type": "markdown",
   "id": "b4b212d6-da6a-471e-8f13-6a2924f1fd07",
   "metadata": {},
   "source": [
    "Objectives:\n",
    "- List popular languages\n",
    "- Commonly used libraries\n",
    "- Examples of evaluating arithmetic expressions\n",
    "\n"
   ]
  },
  {
   "cell_type": "markdown",
   "id": "bcc81f68-1f83-4b54-b352-0e6f4f841fef",
   "metadata": {},
   "source": [
    "Some of the popular languages that Data Scientists use are:"
   ]
  },
  {
   "cell_type": "markdown",
   "id": "cb5a5582-9fac-438a-af52-f87db238f36a",
   "metadata": {},
   "source": [
    "- Python\n",
    "- R\n",
    "- SQL"
   ]
  },
  {
   "cell_type": "markdown",
   "id": "ef6b35b4-c66e-46a8-a291-e18308869994",
   "metadata": {},
   "source": [
    "Some of the commonly used libraries used by Data Scientists include:"
   ]
  },
  {
   "cell_type": "markdown",
   "id": "c43ec055-6090-4b12-9ef6-013f7ac92b7c",
   "metadata": {},
   "source": [
    "- Matplotlib\n",
    "- pandas\n",
    "- NumPy"
   ]
  },
  {
   "cell_type": "markdown",
   "id": "a14d0056-e30c-4fae-b2a5-eaa3a3a89da3",
   "metadata": {},
   "source": [
    "| Data Science tools |\n",
    "|-----------|\n",
    "|Microsoft Visual Studio|\n",
    "|Eclipse|\n",
    "|Adobe Flex Builder|"
   ]
  },
  {
   "cell_type": "markdown",
   "id": "74205983-60b1-4a93-a43a-4c7106ce6a85",
   "metadata": {},
   "source": [
    "### Below are a few examples of evaluating arithmetic expressions in Python"
   ]
  },
  {
   "cell_type": "code",
   "execution_count": 6,
   "id": "6e45d3d5-36a1-4a00-9a7e-3c33017d506b",
   "metadata": {
    "tags": []
   },
   "outputs": [
    {
     "data": {
      "text/plain": [
       "6"
      ]
     },
     "execution_count": 6,
     "metadata": {},
     "output_type": "execute_result"
    }
   ],
   "source": [
    "3+3"
   ]
  },
  {
   "cell_type": "code",
   "execution_count": 11,
   "id": "caf3962e-7bc2-4e7e-ad65-d9b5b0bc8f4e",
   "metadata": {
    "tags": []
   },
   "outputs": [
    {
     "data": {
      "text/plain": [
       "14.583333333333334"
      ]
     },
     "execution_count": 11,
     "metadata": {},
     "output_type": "execute_result"
    }
   ],
   "source": [
    "50 * 35 / 120"
   ]
  },
  {
   "cell_type": "code",
   "execution_count": 23,
   "id": "8b798fda-db22-4edb-a49b-4c8e390033cb",
   "metadata": {
    "tags": []
   },
   "outputs": [
    {
     "data": {
      "text/plain": [
       "17"
      ]
     },
     "execution_count": 23,
     "metadata": {},
     "output_type": "execute_result"
    }
   ],
   "source": [
    "#This a simple arithmetic expression to multiply then add integers \n",
    "(3*4)+5"
   ]
  },
  {
   "cell_type": "code",
   "execution_count": 29,
   "id": "0fcc74c8-a495-410f-80d4-54260df166c1",
   "metadata": {
    "tags": []
   },
   "outputs": [
    {
     "name": "stdin",
     "output_type": "stream",
     "text": [
      "Enter time in minutes 200\n"
     ]
    },
    {
     "name": "stdout",
     "output_type": "stream",
     "text": [
      "Hours= 3\n",
      "Minutes= 20\n"
     ]
    }
   ],
   "source": [
    "#This will convert 200 minutes to hours by diving by 60\n",
    "min=int(input(\"Enter time in minutes\"))\n",
    "h=min//60\n",
    "m=min%60\n",
    "print(\"Hours=\",h)\n",
    "print(\"Minutes=\",m)"
   ]
  },
  {
   "cell_type": "code",
   "execution_count": null,
   "id": "90cbccf2-ed33-47ed-a525-2cfb8872a191",
   "metadata": {},
   "outputs": [],
   "source": []
  }
 ],
 "metadata": {
  "kernelspec": {
   "display_name": "Python",
   "language": "python",
   "name": "conda-env-python-py"
  },
  "language_info": {
   "codemirror_mode": {
    "name": "ipython",
    "version": 3
   },
   "file_extension": ".py",
   "mimetype": "text/x-python",
   "name": "python",
   "nbconvert_exporter": "python",
   "pygments_lexer": "ipython3",
   "version": "3.7.12"
  }
 },
 "nbformat": 4,
 "nbformat_minor": 5
}
